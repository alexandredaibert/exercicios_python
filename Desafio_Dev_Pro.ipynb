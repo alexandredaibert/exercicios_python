{
  "nbformat": 4,
  "nbformat_minor": 0,
  "metadata": {
    "colab": {
      "name": "Desafio Dev Pro.ipynb",
      "provenance": [],
      "authorship_tag": "ABX9TyPxpeSPVEIiPM+fIktMxnXM",
      "include_colab_link": true
    },
    "kernelspec": {
      "name": "python3",
      "display_name": "Python 3"
    },
    "language_info": {
      "name": "python"
    }
  },
  "cells": [
    {
      "cell_type": "markdown",
      "metadata": {
        "id": "view-in-github",
        "colab_type": "text"
      },
      "source": [
        "<a href=\"https://colab.research.google.com/github/alexandredaibert/exercicios_python/blob/main/Desafio_Dev_Pro.ipynb\" target=\"_parent\"><img src=\"https://colab.research.google.com/assets/colab-badge.svg\" alt=\"Open In Colab\"/></a>"
      ]
    },
    {
      "cell_type": "markdown",
      "source": [
        "# Desafio DevPro\n",
        "Notebook com resolução de exercícios selecionados da [Lista Python Brasil](https://wiki.python.org.br/ListaDeExercicios)"
      ],
      "metadata": {
        "id": "XUybZmb3oHgK"
      }
    },
    {
      "cell_type": "markdown",
      "source": [
        "#Exercícios Básicos"
      ],
      "metadata": {
        "id": "Nl__hkDQrSYz"
      }
    },
    {
      "cell_type": "markdown",
      "source": [
        "Resolução exercício 1"
      ],
      "metadata": {
        "id": "Hy4AL8F1rp9L"
      }
    },
    {
      "cell_type": "code",
      "source": [
        "print('Hello World!')"
      ],
      "metadata": {
        "colab": {
          "base_uri": "https://localhost:8080/"
        },
        "id": "37uENrwTr-GH",
        "outputId": "7148384d-508d-4211-aaab-a58e0fdef452"
      },
      "execution_count": null,
      "outputs": [
        {
          "output_type": "stream",
          "name": "stdout",
          "text": [
            "Hello World!\n"
          ]
        }
      ]
    },
    {
      "cell_type": "code",
      "source": [
        "type('Olá Mundo')"
      ],
      "metadata": {
        "colab": {
          "base_uri": "https://localhost:8080/"
        },
        "id": "kPQdrZ9KsDGm",
        "outputId": "2d5dcfe3-ee37-4b14-bf37-47c68e88cc16"
      },
      "execution_count": null,
      "outputs": [
        {
          "output_type": "execute_result",
          "data": {
            "text/plain": [
              "str"
            ]
          },
          "metadata": {},
          "execution_count": 6
        }
      ]
    },
    {
      "cell_type": "markdown",
      "source": [
        "Exercício 2"
      ],
      "metadata": {
        "id": "DMF1XHtRsjFA"
      }
    },
    {
      "cell_type": "code",
      "source": [
        "n = input('Digite o número: ')\n",
        "print(f'O número informado foi {n}')"
      ],
      "metadata": {
        "colab": {
          "base_uri": "https://localhost:8080/"
        },
        "id": "vWtbiCrTskWY",
        "outputId": "9462527f-9ac6-4626-9bb7-fa352ea021d3"
      },
      "execution_count": null,
      "outputs": [
        {
          "output_type": "stream",
          "name": "stdout",
          "text": [
            "Digite o número: 3\n",
            "O número informado foi 3\n"
          ]
        }
      ]
    },
    {
      "cell_type": "markdown",
      "source": [
        "Exercício 3\n"
      ],
      "metadata": {
        "id": "CmcfkwGPt6qB"
      }
    },
    {
      "cell_type": "code",
      "source": [
        "n2 = int(input('Digite o número: '))\n",
        "n3 = int(input('Digite outro número: '))\n",
        "soma= n2+n3\n",
        "print(f'A soma dos 2 números é {soma}')"
      ],
      "metadata": {
        "colab": {
          "base_uri": "https://localhost:8080/"
        },
        "id": "roCoVLJWso3o",
        "outputId": "dbb7c8a7-70ad-432d-aa49-cf284f4e438b"
      },
      "execution_count": null,
      "outputs": [
        {
          "output_type": "stream",
          "name": "stdout",
          "text": [
            "Digite o número: 5\n",
            "Digite outro número: 5\n",
            "A soma dos 2 números é 10\n"
          ]
        }
      ]
    },
    {
      "cell_type": "markdown",
      "source": [
        "Exercício 17 - Programa de cálculo de latas de tintas"
      ],
      "metadata": {
        "id": "ho-9WLUivx1c"
      }
    },
    {
      "cell_type": "code",
      "source": [
        "area_metros = float(input('Digite a área em metros quadrados a ser pintada: '))"
      ],
      "metadata": {
        "colab": {
          "base_uri": "https://localhost:8080/"
        },
        "id": "eQECLBcHv0UY",
        "outputId": "71c77a52-d1d0-4ed5-c592-fd4771d802b7"
      },
      "execution_count": null,
      "outputs": [
        {
          "name": "stdout",
          "output_type": "stream",
          "text": [
            "Digite a área em metros quadrados a ser pintada: 50\n"
          ]
        }
      ]
    },
    {
      "cell_type": "code",
      "source": [
        "qtd_tinta = round(area_metros/6*1.1,1)"
      ],
      "metadata": {
        "id": "g6-g_iKiwRvJ"
      },
      "execution_count": null,
      "outputs": []
    },
    {
      "cell_type": "code",
      "source": [
        "# Cálculo 1 - Latas 18 L\n",
        "qtd_latas_18 = round(qtd_tinta/18)\n",
        "\n",
        "# Cálculo 2 - Latas 3,6 L\n",
        "qtd_latas_3_6 = round(qtd_tinta/3.6)\n",
        "\n",
        "# Cálculo 3 - Latas mistas\n",
        "qtd_2_latas_18 = int(qtd_tinta//18)\n",
        "qtd_2_latas_3_6 = round((qtd_tinta%18)/16)\n",
        "\n",
        "# Impressão\n",
        "print(f'Quantidade de tinta necessária (c/ margem): {qtd_tinta} m²')\n",
        "print(f'')\n",
        "print(f'OPÇÃO 1 ===== Somente latas de 18 L')\n",
        "print(f'Quantidade de latas 18 L: {qtd_latas_18}')\n",
        "print(f'')\n",
        "print(f'OPÇÃO 2 ===== Somente latas de 3,6 L')\n",
        "print(f'Quantidade de latas 3,6 L: {qtd_latas_3_6}')\n",
        "print(f'')\n",
        "print(f'OPÇÃO 3 ===== Latas mistas')\n",
        "print(f'Quantidade de latas 18 L: {qtd_2_latas_18}')\n",
        "print(f'Quantidade de latas 3,6 L: {qtd_2_latas_3_6}')\n"
      ],
      "metadata": {
        "colab": {
          "base_uri": "https://localhost:8080/"
        },
        "id": "Egnle1XiwUjp",
        "outputId": "92317a02-3357-4a5d-bdec-67d54048e814"
      },
      "execution_count": null,
      "outputs": [
        {
          "output_type": "stream",
          "name": "stdout",
          "text": [
            "Quantidade de tinta necessária (c/ margem): 9.2 m²\n",
            "\n",
            "OPÇÃO 1 ===== Somente latas de 18 L\n",
            "Quantidade de latas 18 L: 1\n",
            "\n",
            "OPÇÃO 2 ===== Somente latas de 3,6 L\n",
            "Quantidade de latas 3,6 L: 3\n",
            "\n",
            "OPÇÃO 3 ===== Latas mistas\n",
            "Quantidade de latas 18 L: 0\n",
            "Quantidade de latas 3,6 L: 1\n"
          ]
        }
      ]
    },
    {
      "cell_type": "markdown",
      "source": [
        "#Estrutura de Decisão"
      ],
      "metadata": {
        "id": "lUWYoTLPbra0"
      }
    },
    {
      "cell_type": "code",
      "source": [
        "nota_1 = int(input('Insira a nota 1 do aluno: '))\n",
        "nota_2 = int(input('Insira a nota 2 do aluno: '))"
      ],
      "metadata": {
        "colab": {
          "base_uri": "https://localhost:8080/"
        },
        "id": "xKFXnfssbzpM",
        "outputId": "4663560c-e2e0-467a-e18c-739a6e183aac"
      },
      "execution_count": null,
      "outputs": [
        {
          "name": "stdout",
          "output_type": "stream",
          "text": [
            "Insira a nota 1 do aluno: 4\n",
            "Insira a nota 2 do aluno: 5\n"
          ]
        }
      ]
    },
    {
      "cell_type": "code",
      "source": [
        "print(nota_1, type(nota_1))\n",
        "print(nota_2)\n",
        "média = (nota_1+nota_2)/2\n",
        "\n",
        "print(f'Sua média foi {média}')\n",
        "\n",
        "if 7<=média<10:\n",
        "    print('Aprovado')\n",
        "elif 0<=média<7:\n",
        "    print('Reprovado')\n",
        "elif média==10:\n",
        "    print('Aprovado com louvor')\n",
        "else:\n",
        "    print('ERRO. Verifique os valores digitados')\n"
      ],
      "metadata": {
        "colab": {
          "base_uri": "https://localhost:8080/"
        },
        "id": "pB_oXYrJcJdC",
        "outputId": "4a5a1326-d159-4ab0-8313-3cb8a77594e3"
      },
      "execution_count": null,
      "outputs": [
        {
          "output_type": "stream",
          "name": "stdout",
          "text": [
            "4 <class 'int'>\n",
            "5\n",
            "Sua média foi 4.5\n",
            "Reprovado\n"
          ]
        }
      ]
    },
    {
      "cell_type": "code",
      "source": [
        "0<média<7\n"
      ],
      "metadata": {
        "colab": {
          "base_uri": "https://localhost:8080/"
        },
        "id": "J_ek6CYIceBu",
        "outputId": "2bf99622-0045-44a1-b745-6e39107bdfdd"
      },
      "execution_count": null,
      "outputs": [
        {
          "output_type": "execute_result",
          "data": {
            "text/plain": [
              "True"
            ]
          },
          "metadata": {},
          "execution_count": 14
        }
      ]
    },
    {
      "cell_type": "markdown",
      "source": [
        "Exercício 21\n",
        "\n",
        "Faça um Programa para um caixa eletrônico. O programa deverá perguntar ao usuário a valor do saque e depois informar quantas notas de cada valor serão fornecidas. As notas disponíveis serão as de 1, 5, 10, 50 e 100 reais. \n",
        "O valor mínimo é de 10 reais e o máximo de 600 reais. O programa não deve se preocupar com a quantidade de notas existentes na máquina.\n",
        "\n",
        "Exemplo 1: Para sacar a quantia de 256 reais, o programa fornece duas notas de 100, uma nota de 50, uma nota de 5 e uma nota de 1;\n",
        "\n",
        "Exemplo 2: Para sacar a quantia de 399 reais, o programa fornece três notas de 100, uma nota de 50, quatro notas de 10, uma nota de 5 e quatro notas de 1."
      ],
      "metadata": {
        "id": "QXAv7SU9-Glj"
      }
    },
    {
      "cell_type": "code",
      "source": [
        "valor = int(input('Insira o valor a ser sacado: '))\n",
        "\n",
        "if valor>600:\n",
        "    print('Valor máximo para saque R$ 600,00')\n",
        "elif valor<10:\n",
        "    print('Valor mínimo para saque R$ 10,00')\n",
        "else:\n",
        "    qtd_100, valor = divmod(valor, 100)\n",
        "    qtd_50, valor = divmod(valor, 50)\n",
        "    qtd_10, valor = divmod(valor, 10)\n",
        "    qtd_5, valor = divmod(valor, 5)\n",
        "    qtd_1 = valor\n",
        "\n",
        "    # Impressão\n",
        "    if qtd_100>0:\n",
        "        print(f'{qtd_100} notas de 100')\n",
        "    if qtd_50>0:\n",
        "        print(f'{qtd_50} notas de 50')\n",
        "    if qtd_10>0:\n",
        "        print(f'{qtd_10} notas de 10')\n",
        "    if qtd_5>0:\n",
        "        print(f'{qtd_5} notas de 5')\n",
        "    if qtd_1>0:\n",
        "        print(f'{qtd_1} notas de 1')\n"
      ],
      "metadata": {
        "colab": {
          "base_uri": "https://localhost:8080/"
        },
        "id": "Bx4h0u5zw2Ba",
        "outputId": "62119843-0145-4864-f79b-762f923d9949"
      },
      "execution_count": null,
      "outputs": [
        {
          "output_type": "stream",
          "name": "stdout",
          "text": [
            "Insira o valor a ser sacado: 6\n",
            "Valor mínimo para saque R$ 10,00\n"
          ]
        }
      ]
    },
    {
      "cell_type": "code",
      "source": [
        ""
      ],
      "metadata": {
        "id": "wvpiTa8ODB3w"
      },
      "execution_count": null,
      "outputs": []
    },
    {
      "cell_type": "markdown",
      "source": [
        "Faça um programa que leia 5 números e informe o maior número."
      ],
      "metadata": {
        "id": "iJsQpSz6xXub"
      }
    },
    {
      "cell_type": "code",
      "source": [
        "n0 = 1\n",
        "n1 = 8\n",
        "n2 = -99.6\n",
        "n3 = -5\n",
        "n4 = 3\n",
        "\n",
        "lista_num = [n0, n1, n2, n3, n4]\n",
        "\n",
        "max = lista_num[0]\n",
        "\n",
        "for num in lista_num:\n",
        "  if num >= max:\n",
        "    max = num\n",
        "\n",
        "print(max)"
      ],
      "metadata": {
        "colab": {
          "base_uri": "https://localhost:8080/"
        },
        "id": "qQxKSTcixZgj",
        "outputId": "e603e9cf-4896-4f6a-b7f8-c219afa67d62"
      },
      "execution_count": null,
      "outputs": [
        {
          "output_type": "stream",
          "name": "stdout",
          "text": [
            "8\n"
          ]
        }
      ]
    },
    {
      "cell_type": "markdown",
      "source": [
        "Supondo que a população de um país A seja da ordem de 80000 habitantes com uma taxa anual de crescimento de 3% e que a população de B seja 200000 habitantes com uma taxa de crescimento de 1.5%. Faça um programa que calcule e escreva o número de anos necessários para que a população do país A ultrapasse ou iguale a população do país B, mantidas as taxas de crescimento."
      ],
      "metadata": {
        "id": "fD4y62ga0oXi"
      }
    },
    {
      "cell_type": "code",
      "source": [
        "pop_A = 80_000\n",
        "tx_A = 1.03\n",
        "pop_B = 200_000\n",
        "tx_B = 1.015\n",
        "anos=0\n",
        "\n",
        "while True:\n",
        "  anos += 1\n",
        "  pop_A *= tx_A\n",
        "  pop_B *= tx_B\n",
        "  if pop_A >= pop_B:\n",
        "    print(f'A população da cidade A atingirá a marca da cidade B em {anos} anos, quando terá {round(pop_A)} habitantes')\n",
        "    break"
      ],
      "metadata": {
        "id": "D3HQEsSu0yDv",
        "colab": {
          "base_uri": "https://localhost:8080/"
        },
        "outputId": "4ce0e903-0fdc-4b5c-ae44-b3ef0b697785"
      },
      "execution_count": null,
      "outputs": [
        {
          "output_type": "stream",
          "name": "stdout",
          "text": [
            "A população da cidade A atingirá a marca da cidade B em 63 anos, quando terá 515033 habitantes\n"
          ]
        }
      ]
    },
    {
      "cell_type": "code",
      "source": [
        ""
      ],
      "metadata": {
        "id": "oRJllEqG6PBt"
      },
      "execution_count": null,
      "outputs": []
    },
    {
      "cell_type": "markdown",
      "source": [
        "Faça um Programa que leia um vetor de 10 números reais e mostre-os na ordem inversa."
      ],
      "metadata": {
        "id": "O1kM0feM_O1T"
      }
    },
    {
      "cell_type": "code",
      "source": [
        "lista = []\n",
        "\n",
        "for _ in range(10):\n",
        "  aux = float(input(\"Entre com número desejado: \"))\n",
        "  lista.append(aux)\n",
        "\n",
        "print(lista)\n",
        "lista.reverse()\n",
        "print(lista)\n"
      ],
      "metadata": {
        "id": "Gs3gDdl5_P91"
      },
      "execution_count": null,
      "outputs": []
    },
    {
      "cell_type": "markdown",
      "source": [
        "2\n",
        "Faça um programa que leia um número indeterminado de valores, correspondentes a notas, encerrando a entrada de dados quando for informado um valor igual a -1 (que não deve ser armazenado). Após esta entrada de dados, faça:\n",
        "\n",
        "* Mostre a quantidade de valores que foram lidos;\n",
        "* Exiba todos os valores na ordem em que foram informados, um ao lado do outro;\n",
        "* Exiba todos os valores na ordem inversa à que foram informados, um abaixo do outro;\n",
        "* Calcule e mostre a soma dos valores;\n",
        "* Calcule e mostre a média dos valores;\n",
        "* Calcule e mostre a quantidade de valores acima da média calculada;\n",
        "* Calcule e mostre a quantidade de valores abaixo de sete;\n",
        "* Encerre o programa com uma mensagem;"
      ],
      "metadata": {
        "id": "MgRKyZuaDCl2"
      }
    },
    {
      "cell_type": "code",
      "source": [
        "nota = tamanho_lista = i = qtd_valores_acima_media = qtd_valores_abaixo_7 = 0\n",
        "lista = []\n",
        "\n",
        "while nota != -1:\n",
        "  nota = float(input('Digite a nota: '))\n",
        "  lista.append(nota)\n",
        "\n",
        "lista.pop()  # Excluindo o último item (-1)\n",
        "\n",
        "tamanho_lista = len(lista)\n",
        "print(f'\\nQuantidade de valores lidos: {tamanho_lista}')\n",
        "\n",
        "print('\\nLista de valores digitados: ')\n",
        "print(lista)\n",
        "\n",
        "print('\\nLista inversa dos valores digitados (coluna):')\n",
        "lista.reverse\n",
        "for letra in lista:\n",
        "  print(letra)\n",
        "\n",
        "print(f'\\nSoma dos valores: {sum(lista)}')\n",
        "\n",
        "media = sum(lista)/tamanho_lista\n",
        "print(f'\\nMédia dos valores: {media}')\n",
        "\n",
        "# Método 1 - usando for\n",
        "# for num in lista:\n",
        "#   if num > media:\n",
        "#     qtd_valores_acima_media += 1\n",
        "# print(f'\\nQuantidade de valores acima da média: {qtd_valores_acima_media}')\n",
        "\n",
        "# Método 2\n",
        "print('\\n')\n",
        "print(len([x for x in lista if x > media]))\n",
        "\n",
        "# Método 1 - usando for\n",
        "# for num in lista:\n",
        "#  if num < 7:\n",
        "#    qtd_valores_abaixo_7 += 1\n",
        "#    valores_abaixo_7.append(num)\n",
        "# print(f'\\nQuantidade de valores abaixo de 7: {qtd_valores_acima_media}')\n",
        "print('\\n')\n",
        "print(' '.join(str(x) for x in lista if x > media))\n",
        "\n",
        "# Método 2 - usando list compreension do Python\n",
        "print('\\nNotas calculadas com sucesso')\n",
        "\n",
        "\n"
      ],
      "metadata": {
        "colab": {
          "base_uri": "https://localhost:8080/"
        },
        "id": "Sj6yEnEHDDuh",
        "outputId": "f465aec0-57b1-4edf-8be8-703845bc5932"
      },
      "execution_count": null,
      "outputs": [
        {
          "output_type": "stream",
          "name": "stdout",
          "text": [
            "Digite a nota: 9\n",
            "Digite a nota: 8\n",
            "Digite a nota: 7\n",
            "Digite a nota: 8\n",
            "Digite a nota: 8\n",
            "Digite a nota: 4\n",
            "Digite a nota: 2\n",
            "Digite a nota: -1\n",
            "\n",
            "Quantidade de valores lidos: 7\n",
            "\n",
            "Lista de valores digitados: \n",
            "[9.0, 8.0, 7.0, 8.0, 8.0, 4.0, 2.0]\n",
            "\n",
            "Lista inversa dos valores digitados (coluna):\n",
            "9.0\n",
            "8.0\n",
            "7.0\n",
            "8.0\n",
            "8.0\n",
            "4.0\n",
            "2.0\n",
            "\n",
            "Soma dos valores: 46.0\n",
            "\n",
            "Média dos valores: 6.571428571428571\n",
            "\n",
            "\n",
            "5\n",
            "\n",
            "\n",
            "9.0 8.0 7.0 8.0 8.0\n",
            "\n",
            "Notas calculadas com sucesso\n"
          ]
        }
      ]
    },
    {
      "cell_type": "code",
      "source": [
        "[x**2 for x in lista]"
      ],
      "metadata": {
        "colab": {
          "base_uri": "https://localhost:8080/"
        },
        "id": "eE0s_EVDmrO3",
        "outputId": "ae320b6b-240e-4d21-a833-4066e49165c4"
      },
      "execution_count": null,
      "outputs": [
        {
          "output_type": "execute_result",
          "data": {
            "text/plain": [
              "[81.0, 64.0, 49.0, 64.0, 64.0, 16.0, 4.0]"
            ]
          },
          "metadata": {},
          "execution_count": 7
        }
      ]
    },
    {
      "cell_type": "code",
      "source": [
        "' '.join(str(x) for x in lista)"
      ],
      "metadata": {
        "colab": {
          "base_uri": "https://localhost:8080/",
          "height": 36
        },
        "id": "2R_7CQq9nRYm",
        "outputId": "32a8d8d9-94bd-42b8-f1c0-93e71d08066f"
      },
      "execution_count": null,
      "outputs": [
        {
          "output_type": "execute_result",
          "data": {
            "application/vnd.google.colaboratory.intrinsic+json": {
              "type": "string"
            },
            "text/plain": [
              "'9.0 8.0 7.0 8.0 8.0 4.0 2.0'"
            ]
          },
          "metadata": {},
          "execution_count": 8
        }
      ]
    },
    {
      "cell_type": "code",
      "source": [
        "[x**2 for x in lista if x > media]"
      ],
      "metadata": {
        "colab": {
          "base_uri": "https://localhost:8080/"
        },
        "id": "jwbI6Atqnjyr",
        "outputId": "d0506576-17c5-4a73-eb3f-3e92c1908428"
      },
      "execution_count": null,
      "outputs": [
        {
          "output_type": "execute_result",
          "data": {
            "text/plain": [
              "[81.0, 64.0, 49.0, 64.0, 64.0]"
            ]
          },
          "metadata": {},
          "execution_count": 9
        }
      ]
    },
    {
      "cell_type": "code",
      "source": [
        "dir(lista)"
      ],
      "metadata": {
        "id": "wetEzRxNu86U"
      },
      "execution_count": null,
      "outputs": []
    },
    {
      "cell_type": "markdown",
      "source": [
        "Utilize uma lista para resolver o problema a seguir. Uma empresa paga seus vendedores com base em comissões. \n",
        "O vendedor recebe 200 por semana mais 9 por cento de suas vendas brutas daquela semana. \n",
        "Por exemplo, um vendedor que teve vendas brutas de 3000 em uma semana recebe 200 mais 9 por cento de 3000, ou seja, um total de 470. \n",
        "Escreva um programa (usando um array de contadores) que determine quantos vendedores receberam salários nos seguintes intervalos de valores:\n",
        "\n",
        "200 - 299\n",
        "\n",
        "300 - 399\n",
        "\n",
        "400 - 499\n",
        "\n",
        "500 - 599\n",
        "\n",
        "600 - 699\n",
        "\n",
        "700 - 799\n",
        "\n",
        "800 - 899\n",
        "\n",
        "900 - 999\n",
        "\n",
        "1000 em diante\n",
        "\n",
        "Desafio: Crie ma fórmula para chegar na posição da lista a partir do salário, sem fazer vários ifs aninhados."
      ],
      "metadata": {
        "id": "7ZD38TeUwzmB"
      }
    },
    {
      "cell_type": "code",
      "source": [
        "\n",
        "Vendas_por_vendedor = [0, 1400, 3500, 3000, 5500, 2000, 9500]\n",
        "\n",
        "Salário_por_vendedor = [(200 + 0.09*vendas) for vendas in Vendas_por_vendedor]\n",
        "\n",
        "# Entre 200 e 1000 reais\n",
        "for faixa_salarial in range(200,1000,100):\n",
        "  qtd_faixa = len([x for x in Salário_por_vendedor if faixa_salarial <= x < faixa_salarial+100])\n",
        "  print(f'De {faixa_salarial} a {faixa_salarial+99.99}:  {qtd_faixa}')\n",
        "\n",
        "# De 1000 reais para cima\n",
        "qtd_faixa = len([x for x in Salário_por_vendedor if x > 1000])\n",
        "print(f'De 1000 ou mais:  {qtd_faixa}')"
      ],
      "metadata": {
        "id": "ZKJxj08sw5Bl"
      },
      "execution_count": null,
      "outputs": []
    },
    {
      "cell_type": "markdown",
      "source": [
        "#Exercícios com Funções\n"
      ],
      "metadata": {
        "id": "kbdjI8w-nTo2"
      }
    },
    {
      "cell_type": "code",
      "source": [
        "import time\n",
        "\n",
        "def funcao_triangulo( n ):\n",
        "  lista = list(range(1,n+1))\n",
        "  for i in lista :\n",
        "    for v in lista[0:i] :\n",
        "      print(v, end='   ')\n",
        "    print('')\n",
        "    time.sleep(0.5)\n",
        "    \n",
        "  return\n",
        "\n",
        "funcao_triangulo (15)"
      ],
      "metadata": {
        "id": "i0pOrYj7oSpY"
      },
      "execution_count": null,
      "outputs": []
    },
    {
      "cell_type": "code",
      "source": [
        "# Função de triângulo de letras\n",
        "\n",
        "palavra = 'triângulo'.upper()\n",
        "\n",
        "tamanho = len(palavra)\n",
        "for n in range(tamanho):\n",
        "  print(palavra[:tamanho])\n",
        "  tamanho -= 1\n",
        "\n"
      ],
      "metadata": {
        "id": "oojKB1LV_dFt"
      },
      "execution_count": null,
      "outputs": []
    },
    {
      "cell_type": "markdown",
      "source": [
        "#Leitura de Arquivos"
      ],
      "metadata": {
        "id": "YJGKPWldGa3n"
      }
    },
    {
      "cell_type": "code",
      "source": [
        "def validar(ip:str) -> bool:\n",
        "  numeros = ip.split('.')\n",
        "\n",
        "  if len(numeros) != 4:\n",
        "    return False\n",
        "  \n",
        "  for n in numeros:\n",
        "    if not (0 <= int(n) <= 255):\n",
        "      return False\n",
        "  return True\n",
        "\n",
        "ips_validos = ips_invalidos = []\n",
        "with open('ips.txt', 'r') as arquivo:\n",
        "  for linha in arquivo:\n",
        "    ip = linha.strip()\n",
        "    if validar(ip):\n",
        "      ips_validos.append(ip)\n",
        "    else:\n",
        "      ips_invalidos.append(ip)\n",
        "\n",
        "with open('sample_data/ips_saida.txt', 'w') as arquivo:    \n",
        "  arquivo.writelines('[Endereços Válidos]:\\n')\n",
        "  for ip in ips_validos:\n",
        "    arquivo.writelines(f'{ip}\\n')\n",
        "  arquivo.writelines('\\n')\n",
        "  arquivo.writelines('\\n')\n",
        "  arquivo.writelines('[Endereços Inválidos]:\\n')\n",
        "  for ip in ips_invalidos:\n",
        "    arquivo.writelines(f'{ip}\\n')\n",
        "  \n",
        "  \n"
      ],
      "metadata": {
        "id": "Z1HdoN7-GfmY"
      },
      "execution_count": null,
      "outputs": []
    },
    {
      "cell_type": "code",
      "source": [
        "def bytes2Mbytes(lista:list):\n",
        "  for i, n in enumerate(lista):\n",
        "    n = n / (1024**2)\n",
        "    n = f'{n:10.2f} MB'\n",
        "    lista[i] = n\n",
        "  return lista\n",
        "  \n",
        "def percentual_uso(espaco:list):\n",
        "  percentual = []\n",
        "  espaco_total = sum(espaco)\n",
        "  espaco_medio = espaco_total/(len(espaco))\n",
        "  for valor in espaco:\n",
        "    percentual.append(f'{valor/espaco_total:10.2%}')\n",
        "  return percentual, espaco_total, espaco_medio\n",
        "\n",
        "user = []\n",
        "espaco = []\n",
        "percentuais = []\n",
        "with open('usuarios.txt', 'r') as arquivo:\n",
        "  for linha in arquivo:\n",
        "    #espaco_user[linha[:16]] = int(linha[16:])\n",
        "    #espaco_user.append( [ linha[:16],  int(linha[16:])]  )\n",
        "    user.append( linha[:16] )\n",
        "    espaco.append(int(linha[16:]))\n",
        "percentuais, espaco_total, espaco_medio = percentual_uso(espaco)\n",
        "espaco = bytes2Mbytes(espaco)\n",
        "\n",
        "\n",
        "print('Nr.  Usuário        Espaço utilizado     % do uso')\n",
        "#espaco_user = [user, espaco]\n",
        "for i,_ in enumerate(user):\n",
        "  print(f'{i:3}  {user[i]}  {espaco[i]}     {percentuais[i]}')\n",
        "print(f'Espaco total ocupado: {espaco_total}')\n",
        "print(f'Espaco médio utilizado: {espaco_medio}')\n",
        "\n",
        "with open('sample_data/saida.txt', 'w') as arquivo:    \n",
        "  arquivo.writelines('Nr.  Usuário        Espaço utilizado     % do uso\\n')\n",
        "  for i,_ in enumerate(user):\n",
        "    arquivo.writelines(f'{i:<4} {user[i]}  {espaco[i]}     {percentuais[i]}\\n')\n",
        "  arquivo.writelines('\\n')\n",
        "  arquivo.writelines(f'Espaco total ocupado: {espaco_total}\\n')\n",
        "  arquivo.writelines(f'Espaco médio utilizado: {espaco_medio}\\n')\n",
        "  "
      ],
      "metadata": {
        "id": "90bNvnsFHB2i"
      },
      "execution_count": null,
      "outputs": []
    },
    {
      "cell_type": "markdown",
      "source": [
        "#Exercícios de Classe e Orientação a Objetos"
      ],
      "metadata": {
        "id": "loMQc9XwKA1s"
      }
    },
    {
      "cell_type": "markdown",
      "source": [
        "Exercício 1"
      ],
      "metadata": {
        "id": "0JPXtAJ9KIgp"
      }
    },
    {
      "cell_type": "markdown",
      "source": [
        "https://wiki.python.org.br/ExerciciosClasses"
      ],
      "metadata": {
        "id": "W_lFOEZoVeLf"
      }
    },
    {
      "cell_type": "code",
      "source": [
        "class CirculoPerfeito:\n",
        "  def __init__(self):\n",
        "    self.cor = 'Azul'\n",
        "    self.circunferencia = 4\n",
        "\n",
        "  def mostra_cor(self):\n",
        "    return self.cor\n",
        "  \n",
        "  def alterar_cor(self, cor):\n",
        "    self.cor = cor\n",
        "    return\n",
        "\n",
        "circulo_primeiro = CirculoPerfeito()\n",
        "circulo_segundo  = CirculoPerfeito()\n",
        "circulo_segundo.alterar_cor('Amarelo')\n",
        "print(id(circulo_primeiro), circulo_primeiro.mostra_cor())\n",
        "print(circulo_primeiro.cor, circulo_segundo.cor)"
      ],
      "metadata": {
        "id": "g98qF96EKFNX"
      },
      "execution_count": null,
      "outputs": []
    },
    {
      "cell_type": "code",
      "source": [
        "class Quadrado:\n",
        "  def __init__(self):\n",
        "    self.tamanho_lado = 5\n",
        "  \n",
        "  def mudar_valor_lado(self, novo_lado):\n",
        "    self.tamanho_lado = novo_lado\n",
        "    return\n",
        "\n",
        "  def retornar_valor_lado(self):\n",
        "    return self.tamanho_lado\n",
        "\n",
        "  def calcular_area(self):\n",
        "    return self.tamanho_lado**2\n",
        "\n",
        "quadrado_1 = Quadrado()\n",
        "quadrado_2 = Quadrado()\n",
        "quadrado_2.mudar_valor_lado(3)\n",
        "\n",
        "print(quadrado_1.tamanho_lado)\n",
        "print(f'Quadrado 1 tem lado {quadrado_1.tamanho_lado} e área {quadrado_1.calcular_area()}')\n",
        "print(f'Quadrado 2 tem lado {quadrado_2.tamanho_lado} e área {quadrado_2.calcular_area()}')"
      ],
      "metadata": {
        "id": "5UaZLJpVLsQJ"
      },
      "execution_count": null,
      "outputs": []
    },
    {
      "cell_type": "markdown",
      "source": [
        "### **Exercício 4**\n",
        "\n",
        "**Classe Pessoa:** Crie uma classe que modele uma pessoa:\n",
        "\n",
        "**Atributos:** nome, idade, peso e altura\n",
        "\n",
        "**Métodos:** Envelhercer, engordar, emagrecer, crescer. \n",
        "\n",
        "Obs: Por padrão, a cada ano que nossa pessoa envelhece, sendo a idade dela menor que 21 anos, ela deve crescer 0,5 cm."
      ],
      "metadata": {
        "id": "Yc9QP6DnV-Dy"
      }
    },
    {
      "cell_type": "code",
      "source": [
        "class Pessoa:\n",
        "  def __init__(self, nome='Sem nome', idade = 0, peso = 0, altura = 0):\n",
        "    '''\n",
        "    Cria uma nova pessoa\n",
        "    '''\n",
        "    self.nome = nome\n",
        "    self.idade = idade\n",
        "    self.peso = peso\n",
        "    self.altura = altura\n",
        "    return # no caso, o 'return' aqui é dispensável pois está vazio\n",
        "  \n",
        "  def engordar(self, quilos):\n",
        "    '''\n",
        "    Engorda a quantidade de quilos informada\n",
        "    '''\n",
        "    self.peso += quilos\n",
        "    return\n",
        "  \n",
        "  def emagrecer(self, quilos):\n",
        "    '''\n",
        "    Emagrece a quantidade de quilos informada\n",
        "    '''\n",
        "    self.peso -= quilos\n",
        "    return\n",
        "  \n",
        "  def crescer(self, altura):\n",
        "    '''\n",
        "    Cresce a quantidade de centímetros informada\n",
        "    '''\n",
        "    self.altura += altura\n",
        "    return\n",
        "  \n",
        "  def envelhecer(self, qtd_anos=1):\n",
        "    '''\n",
        "    Envelhece o número informado. Caso não seja informado, envelhece 1 ano.\n",
        "    '''\n",
        "    self.crescer( 0.5 * min( qtd_anos, abs(21-self.idade) ) )\n",
        "    self.idade += qtd_anos\n",
        "    return\n",
        "  \n",
        "alexandre = Pessoa(nome='Alexandre', peso=70, idade=18)\n",
        "alexandre.engordar(6)\n",
        "alexandre.emagrecer(10)\n",
        "alexandre.envelhecer(10)\n",
        "print(f'Nome = {alexandre.nome} , idade = {alexandre.idade}, peso = {alexandre.peso}, altura = {alexandre.altura}')"
      ],
      "metadata": {
        "id": "uCNwqxHpVg3s"
      },
      "execution_count": null,
      "outputs": []
    },
    {
      "cell_type": "markdown",
      "source": [
        "[Problema 10 da lista Python Brasil](https://wiki.python.org.br/ExerciciosClasses)"
      ],
      "metadata": {
        "id": "vPlN76oK2pEP"
      }
    },
    {
      "cell_type": "code",
      "source": [
        "class BombaCombustivel:\n",
        "  def __init__(self, tipo_combustivel:str, valor_litro: float, quantidade_combustivel: float):\n",
        "    '''\n",
        "    Cria nova bomba de combustível. \n",
        "    BombaCombustivel(tipo_combustivel:str, valor_litro: float, quantidade_combustivel: float)\n",
        "    '''\n",
        "    self.tipo_combustivel = tipo_combustivel\n",
        "    self.valor_litro = valor_litro\n",
        "    self.quantidade_combustivel = quantidade_combustivel\n",
        "    #return -> neste caso não precisa, pois é implícito\n",
        "\n",
        "  def abastece_por_valor(self, valor: float):\n",
        "    '''\n",
        "    Abastece o tanque segundo o valor total em R$ informado, exibindo o valor \\n\n",
        "    abastecido em litros.\n",
        "    '''\n",
        "    qtd_abastecida = valor/self.valor_litro\n",
        "    if self.quantidade_combustivel > qtd_abastecida:\n",
        "      self.quantidade_combustivel -= qtd_abastecida\n",
        "      print(f'Quantidade abastecida: {qtd_abastecida:.2f} L')\n",
        "    else:\n",
        "      print(f'Quantidade de combustível insuficiente na bomba.')\n",
        "  \n",
        "  def abastece_por_litro(self, litros: float):\n",
        "    '''\n",
        "    Abastece o tanque segundo a quantidade de combustível informada.\n",
        "    '''\n",
        "    if self.quantidade_combustivel > litros:\n",
        "      self.quantidade_combustivel -= litros\n",
        "      print(f'Valor a pagar: {litros*self.valor_litro:.2f}')\n",
        "    else:\n",
        "      print(f'Quantidade de combustível insuficiente na bomba.')\n",
        "\n",
        "  def alterar_valor(self, novo_valor_litro: float):\n",
        "    '''\n",
        "    Altera o valor por litro de combustível.\n",
        "    '''\n",
        "    self.valor_litro = novo_valor_litro\n",
        "    print(f'Valor por litro atualizado para R$ {novo_valor_litro}')\n",
        "\n",
        "  def alterar_combustivel(self, novo_combustivel: str):\n",
        "    '''\n",
        "    Altera o tipo de combustível da bomba.\n",
        "    '''\n",
        "    self.tipo_combustivel = novo_combustivel\n",
        "    print(f'Combustível da bomba alterado para {novo_combustivel}')\n",
        "    \n",
        "  def alterar_quantidade_combustivel(self, nova_quantidade: float):\n",
        "    '''\n",
        "    Altera a quantidade total de combustível da bomba.\n",
        "    '''\n",
        "    self.quantidade_combustivel = nova_quantidade\n",
        "    print(f'Nova quantidade de combustível na bomba: {nova_quantidade}')\n",
        "\n",
        "bomba_1 = BombaCombustivel('Álcool', 5, 5000)\n",
        "bomba_1.abastece_por_valor(300.1)\n",
        "bomba_1.abastece_por_valor(200)\n",
        "bomba_1.abastece_por_litro(50)\n",
        "bomba_1.abastece_por_litro(35.1)\n",
        "bomba_1.alterar_valor(6.5)\n",
        "bomba_1.alterar_combustivel('Gasolina')\n",
        "bomba_1.alterar_combustivel('Gasolina de Aviação')\n",
        "bomba_1.alterar_quantidade_combustivel(3500)\n",
        "print(f'tipo_combustivel = {bomba_1.tipo_combustivel}')\n",
        "print(f'valor_litro = {bomba_1.valor_litro:.2f}')\n",
        "print(f'quantidade_combustivel = {bomba_1.quantidade_combustivel}')"
      ],
      "metadata": {
        "id": "T7aRX_VsaFfy"
      },
      "execution_count": null,
      "outputs": []
    }
  ]
}