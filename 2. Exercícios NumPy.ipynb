{
  "cells": [
    {
      "cell_type": "markdown",
      "metadata": {
        "id": "VjBGfqOXtUNg"
      },
      "source": [
        "# 2 - Python e NumPy"
      ]
    },
    {
      "cell_type": "code",
      "source": [
        "#@title Init Cell - Execute-me!!!\n",
        "pkg = !pip list | grep 'ipynb-autograde'\n",
        "if not pkg or pkg[0].replace('  ','').split(' ')[1]!='0.0.35':\n",
        "  !pip install ipynb_autograde==0.0.35\n",
        "%env  COURSE python_enap\n",
        "from ipynb_autograde.main import init_log, validate\n",
        "init_log()\n",
        "email_result=!gcloud config get-value account\n",
        "if not email_result or 'unset' in email_result[0]:\n",
        "  import os\n",
        "  os.environ['USE_AUTH_EPHEM'] = '0'\n",
        "\n",
        "  from google.colab import auth\n",
        "  auth.authenticate_user()"
      ],
      "metadata": {
        "id": "rh9X84biwj0J",
        "colab": {
          "base_uri": "https://localhost:8080/"
        },
        "outputId": "249a72a1-7d8c-46bb-8fe4-c9cad6103c12"
      },
      "execution_count": 12,
      "outputs": [
        {
          "output_type": "stream",
          "name": "stdout",
          "text": [
            "Looking in indexes: https://pypi.org/simple, https://us-python.pkg.dev/colab-wheels/public/simple/\n",
            "Collecting ipynb_autograde==0.0.35\n",
            "  Downloading ipynb_autograde-0.0.35.tar.gz (233 kB)\n",
            "\u001b[K     |████████████████████████████████| 233 kB 26.9 MB/s \n",
            "\u001b[?25hRequirement already satisfied: setuptools>=57.0.0 in /usr/local/lib/python3.7/dist-packages (from ipynb_autograde==0.0.35) (57.4.0)\n",
            "Collecting requests>=2.25.1\n",
            "  Downloading requests-2.27.1-py2.py3-none-any.whl (63 kB)\n",
            "\u001b[K     |████████████████████████████████| 63 kB 2.0 MB/s \n",
            "\u001b[?25hRequirement already satisfied: numpy>=1.19.5 in /usr/local/lib/python3.7/dist-packages (from ipynb_autograde==0.0.35) (1.21.6)\n",
            "Requirement already satisfied: pandas>=1.1.5 in /usr/local/lib/python3.7/dist-packages (from ipynb_autograde==0.0.35) (1.3.5)\n",
            "Requirement already satisfied: python-dateutil>=2.7.3 in /usr/local/lib/python3.7/dist-packages (from pandas>=1.1.5->ipynb_autograde==0.0.35) (2.8.2)\n",
            "Requirement already satisfied: pytz>=2017.3 in /usr/local/lib/python3.7/dist-packages (from pandas>=1.1.5->ipynb_autograde==0.0.35) (2022.1)\n",
            "Requirement already satisfied: six>=1.5 in /usr/local/lib/python3.7/dist-packages (from python-dateutil>=2.7.3->pandas>=1.1.5->ipynb_autograde==0.0.35) (1.15.0)\n",
            "Requirement already satisfied: urllib3<1.27,>=1.21.1 in /usr/local/lib/python3.7/dist-packages (from requests>=2.25.1->ipynb_autograde==0.0.35) (1.24.3)\n",
            "Requirement already satisfied: charset-normalizer~=2.0.0 in /usr/local/lib/python3.7/dist-packages (from requests>=2.25.1->ipynb_autograde==0.0.35) (2.0.12)\n",
            "Requirement already satisfied: certifi>=2017.4.17 in /usr/local/lib/python3.7/dist-packages (from requests>=2.25.1->ipynb_autograde==0.0.35) (2022.5.18.1)\n",
            "Requirement already satisfied: idna<4,>=2.5 in /usr/local/lib/python3.7/dist-packages (from requests>=2.25.1->ipynb_autograde==0.0.35) (2.10)\n",
            "Building wheels for collected packages: ipynb-autograde\n",
            "  Building wheel for ipynb-autograde (setup.py) ... \u001b[?25l\u001b[?25hdone\n",
            "  Created wheel for ipynb-autograde: filename=ipynb_autograde-0.0.35-py3-none-any.whl size=934304 sha256=91d58eb21780b4fddedc711d98e31a730aa1252f4106f17d821b45a4183eafe3\n",
            "  Stored in directory: /root/.cache/pip/wheels/15/f6/e0/39a999df01215b860b10d1b7113af062126ece86501be3c7fc\n",
            "Successfully built ipynb-autograde\n",
            "Installing collected packages: requests, ipynb-autograde\n",
            "  Attempting uninstall: requests\n",
            "    Found existing installation: requests 2.23.0\n",
            "    Uninstalling requests-2.23.0:\n",
            "      Successfully uninstalled requests-2.23.0\n",
            "\u001b[31mERROR: pip's dependency resolver does not currently take into account all the packages that are installed. This behaviour is the source of the following dependency conflicts.\n",
            "google-colab 1.0.0 requires requests~=2.23.0, but you have requests 2.27.1 which is incompatible.\n",
            "datascience 0.10.6 requires folium==0.2.1, but you have folium 0.8.3 which is incompatible.\u001b[0m\n",
            "Successfully installed ipynb-autograde-0.0.35 requests-2.27.1\n",
            "env: COURSE=python_enap\n"
          ]
        }
      ]
    },
    {
      "cell_type": "code",
      "source": [
        "# Importe as bibliotecas pandas e numpy\n",
        "import pandas as pd\n",
        "import numpy as np"
      ],
      "metadata": {
        "id": "TociPdmqw9wJ"
      },
      "execution_count": 13,
      "outputs": []
    },
    {
      "cell_type": "markdown",
      "metadata": {
        "id": "5O4vnK2ztUNj"
      },
      "source": [
        "### 2.1 Escreva uma função Python para converter para celcius um array de temperaturas em Fahrenheit. Arredonde o resultado até 2a casa decimal usando a função .round(decimals=2) do numpy\n",
        "#### Exemplo:  para um array([0, 12, 45.21, 34, 99.91])\n",
        "#### Resultado esperado: array([-17.77, -11.11, 7.33, 1.11, 37.72])\n",
        "#### Dica 1: a solução pode ser implementada em 1 linha de código\n",
        "#### Dica 2: T(°C) = (T(°F) - 32) × 5/9\n",
        "#### Dica 3: Use o conhecimento do slide 13."
      ]
    },
    {
      "cell_type": "code",
      "execution_count": 14,
      "metadata": {
        "id": "BlSju7cPtUNj"
      },
      "outputs": [],
      "source": [
        "# Faca aqui seus testes do Exercício 2.1\n"
      ]
    },
    {
      "cell_type": "code",
      "execution_count": 65,
      "metadata": {
        "nbgrader": {
          "grade": false,
          "grade_id": "cell-e0a4e5deea9347c4",
          "locked": false,
          "schema_version": 3,
          "solution": true,
          "task": false
        },
        "id": "q-s0Om48tUNj"
      },
      "outputs": [],
      "source": [
        "# Faca aqui sua função do Exercício 2.1\n",
        "def get_ceusius(F):\n",
        "    \"\"\"retorne um array contendo as temperaturas em graus Ceusius\n",
        "    \"\"\"\n",
        "    return ((F - 32) * (5 / 9)).round(2)"
      ]
    },
    {
      "cell_type": "code",
      "execution_count": 66,
      "metadata": {
        "nbgrader": {
          "grade": true,
          "grade_id": "cell-30d325444b6f6a67",
          "locked": true,
          "points": 1,
          "schema_version": 3,
          "solution": false,
          "task": false
        },
        "id": "zuqfPBzstUNn",
        "colab": {
          "base_uri": "https://localhost:8080/"
        },
        "outputId": "58bb3532-9d3a-4a2b-8762-b3db6c14f8df"
      },
      "outputs": [
        {
          "output_type": "execute_result",
          "data": {
            "text/plain": [
              "(True, 'Parabéns!')"
            ]
          },
          "metadata": {},
          "execution_count": 66
        }
      ],
      "source": [
        "# Faca aqui a validacao do Exercicio 2.1\n",
        "tf = np.array([0, 12, 45.21, 34, 99.91])\n",
        "tc = np.array([-17.78, -11.11, 7.34, 1.11, 37.73])\n",
        "entradas = [[tf]]\n",
        "saidas = [tc]\n",
        "validate(get_ceusius, entradas, lambda x: x, saidas, \"2.1\")"
      ]
    },
    {
      "cell_type": "markdown",
      "metadata": {
        "id": "YMDHDQvEtUNo"
      },
      "source": [
        "### 2.2 Escreva uma função Python para somar os valores de cada linha de um array numpy 2D e depois retornar a maior destas somas\n",
        "#### Exemplo:  para um array([[1  4 ], [10  8], [4  20]]) \n",
        "#### Resultado esperado: 24\n",
        "#### Dica 1: A função ```sum``` do numpy pode fazer o calculo da soma por linha ou por coluna, desde que o parâmetro```axis``` seja especificado corretamente.\n",
        "#### Dica 2: A função ```max``` do numpy pode retornar o máximo de um array numpy.\n",
        "#### Dica 3: A solução se resume a duas linhas de código, uma para a soma e outra para o máximo."
      ]
    },
    {
      "cell_type": "code",
      "execution_count": 17,
      "metadata": {
        "id": "q5KG1lC4tUNo",
        "colab": {
          "base_uri": "https://localhost:8080/"
        },
        "outputId": "432b06cf-235f-4ee0-8fc2-fc1f1be623c1"
      },
      "outputs": [
        {
          "output_type": "execute_result",
          "data": {
            "text/plain": [
              "24"
            ]
          },
          "metadata": {},
          "execution_count": 17
        }
      ],
      "source": [
        "# Faca aqui seus testes do Exercício 2.2\n",
        "def max_sum(x):\n",
        "    \"\"\"retorne o valor maximo dentre os resultados da soma por linha de um array 2D \n",
        "    \"\"\"\n",
        "    return x.sum(axis=1).max()\n",
        "\n",
        "a1 = np.array([[1, 4 ], [10, 8], [4, 20]])\n",
        "max_sum(a1)\n"
      ]
    },
    {
      "cell_type": "code",
      "execution_count": 18,
      "metadata": {
        "nbgrader": {
          "grade": false,
          "grade_id": "cell-f7b05dc12adbf2e2",
          "locked": false,
          "schema_version": 3,
          "solution": true,
          "task": false
        },
        "id": "oQfQKUFjtUNo"
      },
      "outputs": [],
      "source": [
        "# Faca aqui sua função do Exercício 2.2\n",
        "def max_sum(x):\n",
        "    \"\"\"retorne o valor maximo dentre os resultados da soma por linha de um array 2D \n",
        "    \"\"\"\n",
        "    return x.sum(axis=1).max()"
      ]
    },
    {
      "cell_type": "code",
      "execution_count": 19,
      "metadata": {
        "nbgrader": {
          "grade": true,
          "grade_id": "cell-af1b0435b6aacc9b",
          "locked": true,
          "points": 1,
          "schema_version": 3,
          "solution": false,
          "task": false
        },
        "id": "l3Yq4oObtUNo",
        "colab": {
          "base_uri": "https://localhost:8080/"
        },
        "outputId": "3c569509-832a-4bce-f58b-292e49f78f87"
      },
      "outputs": [
        {
          "output_type": "execute_result",
          "data": {
            "text/plain": [
              "(True, 'Parabéns!')"
            ]
          },
          "metadata": {},
          "execution_count": 19
        }
      ],
      "source": [
        "# Faca aqui a validacao do Exercicio 2.2\n",
        "a1 = np.array([[1, 4 ], [10, 8], [4, 20]])\n",
        "a2 = np.array([[1,0,1,9,5],[3,1,2,4,5],[6,1,2,3,4],[8,9,2,1,7]])\n",
        "entradas = [[a1], [a2]]\n",
        "saidas = [24, 27]\n",
        "validate(max_sum, entradas, lambda x: x, saidas, \"2.2\")"
      ]
    },
    {
      "cell_type": "markdown",
      "metadata": {
        "id": "QIPqkYn5tUNo"
      },
      "source": [
        "### 2.3 Escreva uma função Python para contar a quantidade de itens de um dado valor num array NumPy\n",
        "#### Exemplo:  para um ```array([1  4  10  8  4  20  23])``` e ```n=4```\n",
        "#### Resultado esperado: 2\n",
        "#### Dica 1: A função ```count_nonzero``` do pacote numpy conta a quantidade de elementos diferentes de zero ou a quantidade de elementos True.\n",
        "[https://numpy.org/doc/stable/reference/generated/numpy.count_nonzero.html?highlight=count_nonzero#numpy.count_nonzero](https://numpy.org/doc/stable/reference/generated/numpy.count_nonzero.html?highlight=count_nonzero#numpy.count_nonzero)\n",
        "#### Dica 2: A solução pode ser implementada em 1 linha de código.\n",
        "#### Obs.: Lembre-se de usar funções numpy que realizam as operações sem a necessidade de escrever laços (loops)"
      ]
    },
    {
      "cell_type": "code",
      "execution_count": 20,
      "metadata": {
        "id": "vic7L_bxtUNp",
        "colab": {
          "base_uri": "https://localhost:8080/"
        },
        "outputId": "3143141b-37cb-4ae2-a064-195aa0f2baaa"
      },
      "outputs": [
        {
          "output_type": "execute_result",
          "data": {
            "text/plain": [
              "5"
            ]
          },
          "metadata": {},
          "execution_count": 20
        }
      ],
      "source": [
        "# Faca aqui seus testes do Exercício 2.3\n",
        "a1 = np.array([1,0,1,9,5,3,1,2,4,5,6,1,2,3,4,8,9,2,1])\n",
        "\n",
        "a1[a1 == 1].sum()"
      ]
    },
    {
      "cell_type": "code",
      "execution_count": 21,
      "metadata": {
        "id": "_zjukcbLtUNp"
      },
      "outputs": [],
      "source": [
        "# Faca aqui sua função do Exercício 2.3\n",
        "def count_value(array, n):\n",
        "    \"\"\"retorne a quantidade de vezes que n ocorre \n",
        "    \"\"\"\n",
        "    return array[array == n].sum()"
      ]
    },
    {
      "cell_type": "code",
      "execution_count": 22,
      "metadata": {
        "id": "xSQTLq9TtUNq",
        "colab": {
          "base_uri": "https://localhost:8080/"
        },
        "outputId": "4c53b6df-f814-4257-c54f-8d3ab23d37c0"
      },
      "outputs": [
        {
          "output_type": "execute_result",
          "data": {
            "text/plain": [
              "(True, 'Parabéns!')"
            ]
          },
          "metadata": {},
          "execution_count": 22
        }
      ],
      "source": [
        "# Faca aqui a validacao do Exercicio 2.3\n",
        "a1 = np.array([1,0,1,9,5,3,1,2,4,5,6,1,2,3,4,8,9,2,1])\n",
        "entradas = [[a1, 1]]\n",
        "saidas = [5]\n",
        "validate(count_value, entradas, lambda x: x, saidas, \"2.3\")"
      ]
    },
    {
      "cell_type": "markdown",
      "metadata": {
        "id": "mFpwn--9tUNq"
      },
      "source": [
        "### 2.4 Crie uma função que recebe como argumento dois arrays de mesma dimensão e retorna as posições em que esses dois arrays possuem valores coincidentes.\n",
        "#### Exemplo: Para os arrays a e b abaixo\n",
        "```a = np.array([1,2,3,2,3,4,3,4,5,6])```\n",
        "\n",
        "```b = np.array([7,2,10,2,7,4,9,4,9,8])```\n",
        "#### Resultado esperado: \n",
        "```array([1, 3, 5, 7])```\n",
        "\n",
        "#### Dica: use a função ```np.nonzero```\n",
        "[https://numpy.org/doc/stable/reference/generated/numpy.nonzero.html#numpy.nonzero](https://numpy.org/doc/stable/reference/generated/numpy.nonzero.html#numpy.nonzero)"
      ]
    },
    {
      "cell_type": "code",
      "execution_count": 23,
      "metadata": {
        "id": "G4vYuAGQtUNq",
        "colab": {
          "base_uri": "https://localhost:8080/"
        },
        "outputId": "6074dfef-1328-4fbd-a5a6-ec8f0c90b9f6"
      },
      "outputs": [
        {
          "output_type": "execute_result",
          "data": {
            "text/plain": [
              "(array([1, 3, 5, 7]),)"
            ]
          },
          "metadata": {},
          "execution_count": 23
        }
      ],
      "source": [
        "# Faca aqui seus testes do Exercício 2.4\n",
        "a = np.array([1,2,3,2,3,4,3,4,5,6])\n",
        "b = np.array([7,2,10,2,7,4,9,4,9,8])\n",
        "np.nonzero(a == b)"
      ]
    },
    {
      "cell_type": "code",
      "execution_count": 24,
      "metadata": {
        "id": "-cfeYBWbtUNq"
      },
      "outputs": [],
      "source": [
        "# Faca aqui sua função do Exercício 2.4\n",
        "def same_value(arr1, arr2):\n",
        "    \"\"\"retorne um array com a posição dos elementos coincidentes nos dois arrays.\n",
        "    \"\"\"\n",
        "\n",
        "    return np.nonzero(arr1 == arr2)\n"
      ]
    },
    {
      "cell_type": "code",
      "execution_count": 25,
      "metadata": {
        "id": "M9XoxEJotUNq",
        "colab": {
          "base_uri": "https://localhost:8080/"
        },
        "outputId": "fa2620c7-7772-4462-e9f8-1369fe6dd90d"
      },
      "outputs": [
        {
          "output_type": "execute_result",
          "data": {
            "text/plain": [
              "(True, 'Parabéns!')"
            ]
          },
          "metadata": {},
          "execution_count": 25
        }
      ],
      "source": [
        "# Faca aqui a validacao do Exercicio 2.4\n",
        "a = np.array([1,2,3,2,3,4,3,4,5,6])\n",
        "b = np.array([7,2,10,2,7,4,9,4,9,8])\n",
        "np.nonzero(a == b)\n",
        "entradas = [[a, b]]\n",
        "saidas = [np.array([1, 3, 5, 7])]\n",
        "validate(same_value, entradas, lambda x: x, saidas, \"2.4\")"
      ]
    },
    {
      "cell_type": "markdown",
      "metadata": {
        "id": "3z0f_E_5tUqu"
      },
      "source": [
        "### 2.5 Escreva uma função Python para selecionar os elementos de um array que são ao mesmo tempo: maiores que 10, menores que 50 e multiplos de 3.\n",
        "#### Exemplo:  para um array([0, 12, 45, 34, 99])\n",
        "#### Resultado esperado: array([12, 45])\n",
        "#### Dica: Reveja a explicação dos slides 22 e 23 da aula 4. "
      ]
    },
    {
      "cell_type": "code",
      "execution_count": 26,
      "metadata": {
        "id": "I5w1kZ1JtUqv",
        "colab": {
          "base_uri": "https://localhost:8080/"
        },
        "outputId": "11c1c2cf-7e5b-4167-e827-c1db917ad4e7"
      },
      "outputs": [
        {
          "output_type": "execute_result",
          "data": {
            "text/plain": [
              "array([12, 45])"
            ]
          },
          "metadata": {},
          "execution_count": 26
        }
      ],
      "source": [
        "# Faca aqui seus testes do Exercício 2.5\n",
        "inarr = np.array([0, 12, 45, 34, 99])\n",
        "condicao = (inarr > 10) & (inarr < 50) & (inarr % 3 == 0)\n",
        "inarr[condicao]"
      ]
    },
    {
      "cell_type": "code",
      "execution_count": 27,
      "metadata": {
        "id": "62dhoOzvtUqu"
      },
      "outputs": [],
      "source": [
        "# Faca aqui sua função do Exercício 2.5\n",
        "def filter_array(arr):\n",
        "    \"\"\"retorne um array numpy contendo números maiores que 10, \n",
        "       menores que 50 e multiplos de 3\n",
        "    \"\"\"\n",
        "    condicao = (arr > 10) & (arr < 50) & (arr % 3 == 0)\n",
        "    return arr[condicao]"
      ]
    },
    {
      "cell_type": "code",
      "execution_count": 28,
      "metadata": {
        "id": "rctEKnSotUqv",
        "colab": {
          "base_uri": "https://localhost:8080/"
        },
        "outputId": "f983608c-ee94-4c0e-a38f-2d9a2084f5bc"
      },
      "outputs": [
        {
          "output_type": "execute_result",
          "data": {
            "text/plain": [
              "(True, 'Parabéns!')"
            ]
          },
          "metadata": {},
          "execution_count": 28
        }
      ],
      "source": [
        "# Faca aqui a validacao do Exercicio 2.5\n",
        "inarr = np.array([0, 12, 45, 34, 99])\n",
        "outarr = np.array([12, 45])\n",
        "entradas = [[inarr]]\n",
        "saidas = [outarr]\n",
        "validate(filter_array, entradas, lambda x: x, saidas, \"2.5\")"
      ]
    },
    {
      "cell_type": "markdown",
      "metadata": {
        "id": "SWNAndY0tUq1"
      },
      "source": [
        "### 2.6 Escreva uma função Python para criar um array numpy 2D com 1s nos elementos das bordas e com 0s no interior. O tamanho do array deve ser parametrizável.\n",
        "#### Exemplo:  para um n=3\n",
        "#### Resultado esperado: array([[1, 1, 1], [1, 0, 1], [1, 1, 1]])\n",
        "#### Dica: Crie um array bi-dimensional de zeros (com a função np.zeros) e preencha as bordas com 1s, ou crie um array de 1s (com a função np.ones) e preencha o interior com zeros."
      ]
    },
    {
      "cell_type": "code",
      "execution_count": 40,
      "metadata": {
        "id": "wb30NDC3tUq2",
        "colab": {
          "base_uri": "https://localhost:8080/"
        },
        "outputId": "44c594e4-ceac-4f38-a0e3-0d8a977da068"
      },
      "outputs": [
        {
          "output_type": "execute_result",
          "data": {
            "text/plain": [
              "array([[1., 1., 1., 1., 1.],\n",
              "       [1., 0., 0., 0., 1.],\n",
              "       [1., 0., 0., 0., 1.],\n",
              "       [1., 0., 0., 0., 1.],\n",
              "       [1., 1., 1., 1., 1.]])"
            ]
          },
          "metadata": {},
          "execution_count": 40
        }
      ],
      "source": [
        "# Faca aqui seus testes do Exercício 2.6\n",
        "n = 5\n",
        "arr = np.ones((n, n))\n",
        "arr[1:-1, 1:-1] = 0\n",
        "\n",
        "arr"
      ]
    },
    {
      "cell_type": "code",
      "execution_count": 43,
      "metadata": {
        "id": "QIGv6JhitUq2"
      },
      "outputs": [],
      "source": [
        "# Faca aqui sua função do Exercício 2.6\n",
        "def create_array(n):\n",
        "    \"\"\"retorne um array 2d preenchido com 1s nas bordas e 0s no interior \n",
        "    \"\"\"\n",
        "    arr = np.ones((n, n))\n",
        "    arr[1:-1, 1:-1] = 0\n",
        "    return arr"
      ]
    },
    {
      "cell_type": "code",
      "execution_count": 44,
      "metadata": {
        "id": "3rVxiDvrtUq3",
        "colab": {
          "base_uri": "https://localhost:8080/"
        },
        "outputId": "56745de1-7c73-4c4c-b080-2c0376f34cdb"
      },
      "outputs": [
        {
          "output_type": "execute_result",
          "data": {
            "text/plain": [
              "(True, 'Parabéns!')"
            ]
          },
          "metadata": {},
          "execution_count": 44
        }
      ],
      "source": [
        "# Faca aqui a validacao do Exercicio 2.6\n",
        "a3 = np.array([[1, 1, 1], [1, 0, 1], [1, 1, 1]])\n",
        "a6 = np.array([[1., 1., 1., 1., 1., 1.],\n",
        "       [1., 0., 0., 0., 0., 1.],\n",
        "       [1., 0., 0., 0., 0., 1.],\n",
        "       [1., 0., 0., 0., 0., 1.],\n",
        "       [1., 0., 0., 0., 0., 1.],\n",
        "       [1., 1., 1., 1., 1., 1.]])\n",
        "\n",
        "entradas = [[3], [6]]\n",
        "saidas = [a3, a6]\n",
        "validate(create_array, entradas, lambda x: x, saidas, \"2.6\")"
      ]
    },
    {
      "cell_type": "markdown",
      "metadata": {
        "id": "5xdtbIl7tUq3"
      },
      "source": [
        "### 2.7 Escreva uma função Python para selecionar dentre os elementos de um array (```arr1``` passado como argumento)  aquele que mais se aproxima de um determinado valor N passado como argumento da função.\n",
        "#### Se houver dois elementos equidistantes de N e forem os mais próximos de N, retorne o menor. Ou seja, para ```[1, 3, 4]``` e ```N=2```, retorne ```1```.\n",
        "#### Não use laços (loops), use funções Numpy.\n",
        "#### Exemplo:  para um ```array([0, 12, 45, 34, 99])``` e ```N=20```\n",
        "#### Resultado esperado: ```12```\n",
        "#### Dica 1: Use as funções np.abs, ndarray.argmin e ndarray.sort \n",
        "[https://numpy.org/doc/stable/reference/generated/numpy.absolute.html?highlight=abs#numpy.absolute](https://numpy.org/doc/stable/reference/generated/numpy.absolute.html?highlight=abs#numpy.absolute)\n",
        "[https://numpy.org/doc/stable/reference/generated/numpy.argmin.html?highlight=argmin#numpy.argmin](https://numpy.org/doc/stable/reference/generated/numpy.argmin.html?highlight=argmin#numpy.argmin)\n",
        "[https://numpy.org/doc/stable/reference/generated/numpy.ndarray.sort.html?highlight=sort#numpy.ndarray.sort](https://numpy.org/doc/stable/reference/generated/numpy.ndarray.sort.html?highlight=sort#numpy.ndarray.sort)\n",
        "#### Dica 2: Comece ordenando o array com a função ndarray.sort \n",
        "#### Dica 3: Crie um array com a diferença entre cada elemento do array de entrada (```arr1```) e o número ```N```, e chame-o de ```dif```. \n",
        "#### Dica 4: Calcule o valor absoluto do array ```dif```, e armazene-o numa variável chamada ```absoluto```.\n",
        "#### Dica 5: De maneira genérica, use uma função numpy para retornar o índice do menor valor de um array, e guarde-o numa variavel chamada ```index```. Este é o índice do elemento do array que mais se aproxima de ```N```. Por que?\n",
        "#### Dica 6: Retorne o elemento do array ```arr1``` na posição guardada em ```index```.\n",
        "\n",
        "#### Curiosidade: Por que se faz necessário ordenar o array ```arr1``` ?\n"
      ]
    },
    {
      "cell_type": "code",
      "execution_count": 60,
      "metadata": {
        "id": "uYk6DdqgtUq6",
        "colab": {
          "base_uri": "https://localhost:8080/"
        },
        "outputId": "00e0c6dc-0e1c-4be8-c124-2fe01763d794"
      },
      "outputs": [
        {
          "output_type": "execute_result",
          "data": {
            "text/plain": [
              "4"
            ]
          },
          "metadata": {},
          "execution_count": 60
        }
      ],
      "source": [
        "# Faca aqui seus testes do Exercício 2.7\n"
      ]
    },
    {
      "cell_type": "code",
      "execution_count": 63,
      "metadata": {
        "nbgrader": {
          "grade": false,
          "grade_id": "cell-e0a4e5deea9187c4",
          "locked": false,
          "schema_version": 3,
          "solution": true,
          "task": false
        },
        "id": "hFvbJAALtUq5"
      },
      "outputs": [],
      "source": [
        "# Faca aqui sua função do Exercício 2.7\n",
        "def get_closest(arr1, N):\n",
        "    \"\"\"retorne o elemento do array que mais se aproxima de N.\n",
        "       No caso de dois elementos equidistantes, retorne o menor.\n",
        "    \"\"\"\n",
        "    arr1.sort()\n",
        "    modulo = abs(arr1 - N)\n",
        "    indice = np.argmin(modulo)\n",
        "    valor = arr[indice]\n",
        "    return valor"
      ]
    },
    {
      "cell_type": "code",
      "execution_count": 64,
      "metadata": {
        "nbgrader": {
          "grade": true,
          "grade_id": "cell-30d325468b6f6a67",
          "locked": true,
          "points": 1,
          "schema_version": 3,
          "solution": false,
          "task": false
        },
        "id": "itsMtSiptUq6",
        "colab": {
          "base_uri": "https://localhost:8080/"
        },
        "outputId": "cc51138e-1b7d-4353-ef37-706a26ae809d"
      },
      "outputs": [
        {
          "output_type": "execute_result",
          "data": {
            "text/plain": [
              "(True, 'Parabéns!')"
            ]
          },
          "metadata": {},
          "execution_count": 64
        }
      ],
      "source": [
        "# Faca aqui a validacao do Exercicio 2.7\n",
        "inarr = np.array([3, 6, 1, 4])\n",
        "entradas = [[inarr, 2]]\n",
        "saidas = [1]\n",
        "validate(get_closest, entradas, lambda x: x, saidas, \"2.7\")"
      ]
    }
  ],
  "metadata": {
    "celltoolbar": "Create Assignment",
    "kernelspec": {
      "display_name": "Python 3",
      "language": "python",
      "name": "python3"
    },
    "language_info": {
      "codemirror_mode": {
        "name": "ipython",
        "version": 3
      },
      "file_extension": ".py",
      "mimetype": "text/x-python",
      "name": "python",
      "nbconvert_exporter": "python",
      "pygments_lexer": "ipython3",
      "version": "3.8.3"
    },
    "name": "_merged",
    "varInspector": {
      "cols": {
        "lenName": 16,
        "lenType": 16,
        "lenVar": 40
      },
      "kernels_config": {
        "python": {
          "delete_cmd_postfix": "",
          "delete_cmd_prefix": "del ",
          "library": "var_list.py",
          "varRefreshCmd": "print(var_dic_list())"
        },
        "r": {
          "delete_cmd_postfix": ") ",
          "delete_cmd_prefix": "rm(",
          "library": "var_list.r",
          "varRefreshCmd": "cat(var_dic_list()) "
        }
      },
      "types_to_exclude": [
        "module",
        "function",
        "builtin_function_or_method",
        "instance",
        "_Feature"
      ],
      "window_display": false
    },
    "colab": {
      "name": "Exercícios NumPy.ipynb",
      "provenance": [],
      "collapsed_sections": []
    }
  },
  "nbformat": 4,
  "nbformat_minor": 0
}
